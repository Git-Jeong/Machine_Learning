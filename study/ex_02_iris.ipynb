{
 "cells": [
  {
   "cell_type": "markdown",
   "id": "77dce803-079f-40bf-9073-96eb358da317",
   "metadata": {},
   "source": [
    "## 지도학습 + 분류예측을 통한 붗꽃 IRIS 분류\n",
    "### 지도학습?? \n",
    "- 정답(Label)을 지도.\n",
    "- 정답이 존재하는 상태에서 머신러닝에게 문제의 특성과 정답을 같이 학습시키는 방법론\n",
    "- 분류 예측 : 미리 정해져 있는 클래스를 예측하는 작업(ex : MBTI, 혈액형)\n",
    "- 회귀 예측 : 무한대에 가까운 숫자(실수)를 예측하는 작업(ex : 부동산 가격, 주식 가격)"
   ]
  },
  {
   "cell_type": "markdown",
   "id": "445087e3-893f-4260-b60a-12dbb14b6ac8",
   "metadata": {},
   "source": [
    "### 학습목표\n",
    "- 과소적합, 과대적합, 일반화 용어 학습\n",
    "- KNN 모델의 알고리즘을 학습\n",
    "  "
   ]
  },
  {
   "cell_type": "code",
   "execution_count": 21,
   "id": "d6445dac-e450-41a6-9ce5-459541b845c1",
   "metadata": {},
   "outputs": [],
   "source": [
    "train_rate = 0.7 "
   ]
  },
  {
   "cell_type": "code",
   "execution_count": 2,
   "id": "09dc3ec6-b2f4-44f2-83d3-131c217734ca",
   "metadata": {},
   "outputs": [],
   "source": [
    "import numpy as np\n",
    "import pandas as pd\n",
    "import matplotlib.pyplot as plt\n",
    "import matplotlib\n",
    "from sklearn.neighbors import KNeighborsClassifier \n",
    "from sklearn.datasets import load_iris"
   ]
  },
  {
   "cell_type": "code",
   "execution_count": 41,
   "id": "3027c0f3-bb42-4847-a847-f2ae654f0b0c",
   "metadata": {},
   "outputs": [
    {
     "data": {
      "text/plain": [
       "0      0\n",
       "1      0\n",
       "2      0\n",
       "3      0\n",
       "4      0\n",
       "      ..\n",
       "145    2\n",
       "146    2\n",
       "147    2\n",
       "148    2\n",
       "149    2\n",
       "Name: target, Length: 150, dtype: int64"
      ]
     },
     "execution_count": 41,
     "metadata": {},
     "output_type": "execute_result"
    }
   ],
   "source": [
    "# 필요한 데이터 불러오기\n",
    "# as_frame의 경우, 데이터를 데이터프레임 형태로 반환받겠다는 것\n",
    "get_data = load_iris(as_frame = True)\n",
    "\n",
    "# 데이터 프레임을 확인한 결과, 딕셔너리 타입의 데이터임,\n",
    "X = get_data['data']\n",
    "\n",
    "# data 키 값 안에는, 붓꽆의 특성 데이터가 들어있다.\n",
    "X\n",
    "\n",
    "# 0, 1, 2로 구성되어 있는 Series 타입\n",
    "get_data['target']"
   ]
  },
  {
   "cell_type": "code",
   "execution_count": 42,
   "id": "9a06703a-6504-463e-aa63-e277f2efb08b",
   "metadata": {},
   "outputs": [],
   "source": [
    "# target 데이터 탐색\n",
    "\n",
    "# 0 : setosa, 1 : versicolor, 2 : virginica\n",
    "names = get_data['target_names']\n",
    "\n",
    "get_data['target'].value_counts()\n",
    "\n",
    "y = get_data['target']"
   ]
  },
  {
   "cell_type": "markdown",
   "id": "5b1127f6-d0ff-4675-84a0-130d00ae5f60",
   "metadata": {},
   "source": [
    "### 데이터 셋 구성\n",
    "\n",
    "- X : 특성 데이터, y : 정답 데이터로 분리한 상태\n",
    "- 머신러닝 모델은 학습을 시켜준 뒤에 잘 학습을 했는지 평가하는 절차가 필요함.\n",
    "  -> 평가를 진행할 데이터가 필요하다.\n",
    "- 기존 데이터에서 약간 쪼개서. 7 : 3 비율로 나눌 것. 7은 학습 데이터, 3은 평가 데이터"
   ]
  },
  {
   "cell_type": "code",
   "execution_count": 43,
   "id": "55218ecd-c364-4ea2-adac-8a738340c196",
   "metadata": {},
   "outputs": [
    {
     "data": {
      "text/plain": [
       "104"
      ]
     },
     "execution_count": 43,
     "metadata": {},
     "output_type": "execute_result"
    }
   ],
   "source": [
    "train_len = (int) (len(X) * train_late) - 1\n",
    "train_len "
   ]
  },
  {
   "cell_type": "code",
   "execution_count": 48,
   "id": "32bbc51b-66a8-4c9f-9e70-4b31d8596c59",
   "metadata": {},
   "outputs": [],
   "source": [
    "# 데이터를 균등하게 분리하기\n",
    "from sklearn.model_selection import train_test_split \n",
    "\n",
    "X_train, X_test, y_train, y_test = train_test_split(\n",
    "    # random_state에 42를 넣으므로, 다시 시작을 하더라도 같은 값을 넣도록 함\n",
    "    X, y, train_size = train_rate, stratify = y, random_state = 42\n",
    ")  "
   ]
  },
  {
   "cell_type": "code",
   "execution_count": 50,
   "id": "ddc371ac-d855-45eb-854d-c5b7302c7ab4",
   "metadata": {},
   "outputs": [
    {
     "name": "stdout",
     "output_type": "stream",
     "text": [
      "y의 학습 데이터 길이 : 105\n",
      "\n",
      "y의 평가 데이터 길이 : 45\n",
      "\n",
      "y의 학습 데이터 분포: target\n",
      "1    35\n",
      "0    35\n",
      "2    35\n",
      "Name: count, dtype: int64\n",
      "\n",
      "y의 평가 데이터 분포: target\n",
      "2    15\n",
      "1    15\n",
      "0    15\n",
      "Name: count, dtype: int64\n"
     ]
    }
   ],
   "source": [
    "y_train_counts = y_train.value_counts()\n",
    "y_test_counts = y_test.value_counts()\n",
    "print(f'y의 학습 데이터 길이 : {len(y_train)}', end='\\n\\n')\n",
    "print(f'y의 평가 데이터 길이 : {len(y_test)}', end='\\n\\n')\n",
    "\n",
    "print(f'y의 학습 데이터 분포: {y_train_counts}', end='\\n\\n')\n",
    "print(f'y의 평가 데이터 분포: {y_test_counts}')"
   ]
  },
  {
   "cell_type": "code",
   "execution_count": 51,
   "id": "cc26c7a9-b9e9-4802-a068-e06ff9165518",
   "metadata": {},
   "outputs": [
    {
     "name": "stdout",
     "output_type": "stream",
     "text": [
      "X의 학습 데이터 길이 : 105\n",
      "\n",
      "X의 평가 데이터 길이 : 45\n"
     ]
    }
   ],
   "source": [
    "print(f'X의 학습 데이터 길이 : {len(X_train)}', end='\\n\\n')\n",
    "print(f'X의 평가 데이터 길이 : {len(X_test)}')"
   ]
  },
  {
   "cell_type": "code",
   "execution_count": 56,
   "id": "972db2d6-0daf-4d38-ad98-c82def33ad2c",
   "metadata": {},
   "outputs": [
    {
     "name": "stdout",
     "output_type": "stream",
     "text": [
      "X_train의 형태 :  (105, 4)\n",
      "X_test의 형태 :  (45, 4)\n",
      "y_train의 형태 :  (105,)\n",
      "y_test의 형태 :  (45,)\n"
     ]
    }
   ],
   "source": [
    "print(\"X_train의 형태 : \", X_train.shape)\n",
    "print(\"X_test의 형태 : \", X_test.shape)\n",
    "\n",
    "print(\"y_train의 형태 : \", y_train.shape)\n",
    "print(\"y_test의 형태 : \", y_test.shape)"
   ]
  },
  {
   "cell_type": "code",
   "execution_count": null,
   "id": "844028e5-7a1b-4e6d-9f0d-1a1ab5c360cd",
   "metadata": {},
   "outputs": [],
   "source": []
  },
  {
   "cell_type": "code",
   "execution_count": null,
   "id": "85013761-4989-4025-958d-3edeaf605a2f",
   "metadata": {},
   "outputs": [],
   "source": []
  },
  {
   "cell_type": "code",
   "execution_count": null,
   "id": "b7bc927a-2741-4b15-81c2-a2f28682286f",
   "metadata": {},
   "outputs": [],
   "source": []
  },
  {
   "cell_type": "code",
   "execution_count": null,
   "id": "0c776ab6-39b5-40f1-8712-c39540d6294e",
   "metadata": {},
   "outputs": [],
   "source": []
  },
  {
   "cell_type": "code",
   "execution_count": null,
   "id": "41ad0208-b79f-4295-a7f7-d37498ba1f08",
   "metadata": {},
   "outputs": [],
   "source": []
  },
  {
   "cell_type": "code",
   "execution_count": null,
   "id": "982c052c-5ef2-4514-b1a7-a22468e06d53",
   "metadata": {},
   "outputs": [],
   "source": []
  },
  {
   "cell_type": "code",
   "execution_count": null,
   "id": "103c7895-1a42-4a29-9c01-2db7d92ddb9b",
   "metadata": {},
   "outputs": [],
   "source": []
  },
  {
   "cell_type": "code",
   "execution_count": null,
   "id": "6fd65ca1-06cd-4036-ac9c-4bde942b9114",
   "metadata": {},
   "outputs": [],
   "source": []
  },
  {
   "cell_type": "code",
   "execution_count": null,
   "id": "8cbef134-965d-48c3-a10d-bcb7e9558cf5",
   "metadata": {},
   "outputs": [],
   "source": []
  },
  {
   "cell_type": "code",
   "execution_count": null,
   "id": "52298b11-1715-43f9-bf6d-f58522fa9da1",
   "metadata": {},
   "outputs": [],
   "source": []
  },
  {
   "cell_type": "code",
   "execution_count": null,
   "id": "96e8b9ae-a808-4255-a2e1-aaf7645373e9",
   "metadata": {},
   "outputs": [],
   "source": []
  },
  {
   "cell_type": "code",
   "execution_count": null,
   "id": "1d8bb8f7-f02f-4bd4-87b6-9ef2c6bf760b",
   "metadata": {},
   "outputs": [],
   "source": []
  },
  {
   "cell_type": "code",
   "execution_count": null,
   "id": "01d867ea-f7aa-4d15-b2d3-d9efedcebb96",
   "metadata": {},
   "outputs": [],
   "source": []
  },
  {
   "cell_type": "code",
   "execution_count": null,
   "id": "39adb235-7f21-4457-a525-9ea873442a96",
   "metadata": {},
   "outputs": [],
   "source": []
  },
  {
   "cell_type": "code",
   "execution_count": null,
   "id": "f74d54b7-4322-466d-9204-043a1fedc50a",
   "metadata": {},
   "outputs": [],
   "source": []
  },
  {
   "cell_type": "code",
   "execution_count": null,
   "id": "8c6b21d0-7303-491e-bcf5-f8d96a2d9ddc",
   "metadata": {},
   "outputs": [],
   "source": []
  },
  {
   "cell_type": "code",
   "execution_count": null,
   "id": "914128af-2ecb-4fcb-96d6-7a3973c9ae61",
   "metadata": {},
   "outputs": [],
   "source": []
  },
  {
   "cell_type": "code",
   "execution_count": null,
   "id": "6840310a-6e81-48a2-ae0f-249c3f84b438",
   "metadata": {},
   "outputs": [],
   "source": []
  }
 ],
 "metadata": {
  "kernelspec": {
   "display_name": "Python 3 (ipykernel)",
   "language": "python",
   "name": "python3"
  },
  "language_info": {
   "codemirror_mode": {
    "name": "ipython",
    "version": 3
   },
   "file_extension": ".py",
   "mimetype": "text/x-python",
   "name": "python",
   "nbconvert_exporter": "python",
   "pygments_lexer": "ipython3",
   "version": "3.13.2"
  }
 },
 "nbformat": 4,
 "nbformat_minor": 5
}
