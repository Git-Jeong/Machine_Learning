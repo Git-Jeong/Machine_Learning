{
 "cells": [
  {
   "cell_type": "markdown",
   "id": "b8d0a01c-0e7a-4972-9a8e-03c0e91e1a3d",
   "metadata": {},
   "source": [
    "## BMI 파일을 활용하여 머신러닝을 학습해보기   "
   ]
  },
  {
   "cell_type": "code",
   "execution_count": 5,
   "id": "5f0f5262-7652-404c-b8f7-381fc33d2031",
   "metadata": {},
   "outputs": [
    {
     "name": "stdout",
     "output_type": "stream",
     "text": [
      "'numpy'가 성공적으로 임포트되었습니다.\n",
      "'pandas'가 성공적으로 임포트되었습니다.\n",
      "'matplotlib'가 성공적으로 임포트되었습니다.\n",
      "'sklearn.neighbors'가 성공적으로 임포트되었습니다.\n"
     ]
    }
   ],
   "source": [
    "# 필요한 라이브러리 import\n",
    "\n",
    "def install_and_import(package, import_as=None):\n",
    "    try:\n",
    "        if import_as:\n",
    "            globals()[import_as] = __import__(package)\n",
    "        else:\n",
    "            globals()[package] = __import__(package)\n",
    "        print(f\"'{package}'가 성공적으로 임포트되었습니다.\")\n",
    "    except ImportError:\n",
    "        print(f\"'{package}'가 설치되지 않았습니다. 설치 중...\")\n",
    "        !pip install {package}\n",
    "        # 재시도\n",
    "        try:\n",
    "            if import_as:\n",
    "                globals()[import_as] = __import__(package)\n",
    "            else:\n",
    "                globals()[package] = __import__(package)\n",
    "            print(f\"'{package}'가 성공적으로 임포트되었습니다.\")\n",
    "        except ImportError:\n",
    "            print(f\"'{package}' 설치에 실패했습니다.\")\n",
    " \n",
    "install_and_import('numpy', 'np')\n",
    "install_and_import('pandas', 'pd')\n",
    "install_and_import('matplotlib', 'plt')\n",
    "install_and_import('sklearn.neighbors', 'KNeighborsClassifier')\n"
   ]
  },
  {
   "cell_type": "code",
   "execution_count": 6,
   "id": "b51b1118-732a-49d1-ac58-72a335ad7860",
   "metadata": {},
   "outputs": [],
   "source": [
    "url = 'data/bmi_500.csv'"
   ]
  },
  {
   "cell_type": "code",
   "execution_count": 7,
   "id": "ef857c62-4f64-4c43-ac1b-c0bde8db75e4",
   "metadata": {},
   "outputs": [
    {
     "data": {
      "text/html": [
       "<div>\n",
       "<style scoped>\n",
       "    .dataframe tbody tr th:only-of-type {\n",
       "        vertical-align: middle;\n",
       "    }\n",
       "\n",
       "    .dataframe tbody tr th {\n",
       "        vertical-align: top;\n",
       "    }\n",
       "\n",
       "    .dataframe thead th {\n",
       "        text-align: right;\n",
       "    }\n",
       "</style>\n",
       "<table border=\"1\" class=\"dataframe\">\n",
       "  <thead>\n",
       "    <tr style=\"text-align: right;\">\n",
       "      <th></th>\n",
       "      <th>Gender</th>\n",
       "      <th>Height</th>\n",
       "      <th>Weight</th>\n",
       "      <th>Label</th>\n",
       "    </tr>\n",
       "  </thead>\n",
       "  <tbody>\n",
       "    <tr>\n",
       "      <th>0</th>\n",
       "      <td>Male</td>\n",
       "      <td>174</td>\n",
       "      <td>96</td>\n",
       "      <td>Obesity</td>\n",
       "    </tr>\n",
       "    <tr>\n",
       "      <th>1</th>\n",
       "      <td>Male</td>\n",
       "      <td>189</td>\n",
       "      <td>87</td>\n",
       "      <td>Normal</td>\n",
       "    </tr>\n",
       "    <tr>\n",
       "      <th>2</th>\n",
       "      <td>Female</td>\n",
       "      <td>185</td>\n",
       "      <td>110</td>\n",
       "      <td>Obesity</td>\n",
       "    </tr>\n",
       "    <tr>\n",
       "      <th>3</th>\n",
       "      <td>Female</td>\n",
       "      <td>195</td>\n",
       "      <td>104</td>\n",
       "      <td>Overweight</td>\n",
       "    </tr>\n",
       "    <tr>\n",
       "      <th>4</th>\n",
       "      <td>Male</td>\n",
       "      <td>149</td>\n",
       "      <td>61</td>\n",
       "      <td>Overweight</td>\n",
       "    </tr>\n",
       "    <tr>\n",
       "      <th>...</th>\n",
       "      <td>...</td>\n",
       "      <td>...</td>\n",
       "      <td>...</td>\n",
       "      <td>...</td>\n",
       "    </tr>\n",
       "    <tr>\n",
       "      <th>495</th>\n",
       "      <td>Female</td>\n",
       "      <td>150</td>\n",
       "      <td>153</td>\n",
       "      <td>Extreme Obesity</td>\n",
       "    </tr>\n",
       "    <tr>\n",
       "      <th>496</th>\n",
       "      <td>Female</td>\n",
       "      <td>184</td>\n",
       "      <td>121</td>\n",
       "      <td>Obesity</td>\n",
       "    </tr>\n",
       "    <tr>\n",
       "      <th>497</th>\n",
       "      <td>Female</td>\n",
       "      <td>141</td>\n",
       "      <td>136</td>\n",
       "      <td>Extreme Obesity</td>\n",
       "    </tr>\n",
       "    <tr>\n",
       "      <th>498</th>\n",
       "      <td>Male</td>\n",
       "      <td>150</td>\n",
       "      <td>95</td>\n",
       "      <td>Extreme Obesity</td>\n",
       "    </tr>\n",
       "    <tr>\n",
       "      <th>499</th>\n",
       "      <td>Male</td>\n",
       "      <td>173</td>\n",
       "      <td>131</td>\n",
       "      <td>Extreme Obesity</td>\n",
       "    </tr>\n",
       "  </tbody>\n",
       "</table>\n",
       "<p>500 rows × 4 columns</p>\n",
       "</div>"
      ],
      "text/plain": [
       "     Gender  Height  Weight            Label\n",
       "0      Male     174      96          Obesity\n",
       "1      Male     189      87           Normal\n",
       "2    Female     185     110          Obesity\n",
       "3    Female     195     104       Overweight\n",
       "4      Male     149      61       Overweight\n",
       "..      ...     ...     ...              ...\n",
       "495  Female     150     153  Extreme Obesity\n",
       "496  Female     184     121          Obesity\n",
       "497  Female     141     136  Extreme Obesity\n",
       "498    Male     150      95  Extreme Obesity\n",
       "499    Male     173     131  Extreme Obesity\n",
       "\n",
       "[500 rows x 4 columns]"
      ]
     },
     "execution_count": 7,
     "metadata": {},
     "output_type": "execute_result"
    }
   ],
   "source": [
    "data = pd.read_csv(url)\n",
    "data"
   ]
  },
  {
   "cell_type": "code",
   "execution_count": 15,
   "id": "3c692e1e-5d6d-4471-bc7a-db0cf1f015dc",
   "metadata": {},
   "outputs": [
    {
     "name": "stdout",
     "output_type": "stream",
     "text": [
      "   Gender  Height  Weight       Label\n",
      "0    Male     174      96     Obesity\n",
      "1    Male     189      87      Normal\n",
      "2  Female     185     110     Obesity\n",
      "3  Female     195     104  Overweight\n",
      "4    Male     149      61  Overweight\n",
      "\n",
      "<class 'pandas.core.frame.DataFrame'>\n",
      "RangeIndex: 500 entries, 0 to 499\n",
      "Data columns (total 4 columns):\n",
      " #   Column  Non-Null Count  Dtype \n",
      "---  ------  --------------  ----- \n",
      " 0   Gender  500 non-null    object\n",
      " 1   Height  500 non-null    int64 \n",
      " 2   Weight  500 non-null    int64 \n",
      " 3   Label   500 non-null    object\n",
      "dtypes: int64(2), object(2)\n",
      "memory usage: 15.8+ KB\n",
      "None\n",
      "\n",
      "Gender    0\n",
      "Height    0\n",
      "Weight    0\n",
      "Label     0\n",
      "dtype: int64\n",
      "\n"
     ]
    }
   ],
   "source": [
    "# 데이터를 확인하기 위해 상위 5개만 먼저 파악\n",
    "print(data.head(5))\n",
    "print()\n",
    "\n",
    "# 데이터의 정보 출력\n",
    "print(data.info())\n",
    "print()  \n",
    "\n",
    "# 데이터의 null값 카운트\n",
    "print(data.isnull().sum())\n",
    "print()"
   ]
  },
  {
   "attachments": {
    "fd52e19c-a24b-473e-b16d-210a33161e71.png": {
     "image/png": "[encoded data removed]"
    }
   },
   "cell_type": "markdown",
   "id": "d7ef841b-4e86-4957-b8a1-bc714cd19e73",
   "metadata": {},
   "source": [
    "![image.png](attachment:fd52e19c-a24b-473e-b16d-210a33161e71.png)\n",
    "```\n",
    "로 출력되는데. \n",
    "Gender, Height,Labe, Weight 가 입력(문제) 데이터\n",
    "Label는 출력(정답) 데이터\n",
    "```"
   ]
  },
  {
   "cell_type": "code",
   "execution_count": null,
   "id": "70ad7861-81ea-4a55-ae65-1e521b7ccb3a",
   "metadata": {},
   "outputs": [],
   "source": []
  },
  {
   "cell_type": "code",
   "execution_count": null,
   "id": "050c615b-25e1-4f18-b8b5-808b897c183e",
   "metadata": {},
   "outputs": [],
   "source": []
  },
  {
   "cell_type": "code",
   "execution_count": null,
   "id": "2d2ffdf3-4996-4267-904a-7862c702cee3",
   "metadata": {},
   "outputs": [],
   "source": []
  },
  {
   "cell_type": "code",
   "execution_count": null,
   "id": "66c26ffc-48dc-4ce0-80c3-795418313c6f",
   "metadata": {},
   "outputs": [],
   "source": []
  },
  {
   "cell_type": "code",
   "execution_count": null,
   "id": "7eb6b8b4-b792-4f36-a6f4-abb1609e80a1",
   "metadata": {},
   "outputs": [],
   "source": []
  },
  {
   "cell_type": "code",
   "execution_count": null,
   "id": "4b02720f-cec0-4934-a674-d1fdfd0479cb",
   "metadata": {},
   "outputs": [],
   "source": []
  },
  {
   "cell_type": "code",
   "execution_count": null,
   "id": "3e1a95d7-0162-4c0e-b837-f38e8d09b9cc",
   "metadata": {},
   "outputs": [],
   "source": []
  },
  {
   "cell_type": "code",
   "execution_count": null,
   "id": "65421be8-0ad1-43dd-a9b5-33a20acecd18",
   "metadata": {},
   "outputs": [],
   "source": []
  },
  {
   "cell_type": "code",
   "execution_count": null,
   "id": "b45360d1-4e27-4f18-881f-9a49b8f4157b",
   "metadata": {},
   "outputs": [],
   "source": []
  },
  {
   "cell_type": "code",
   "execution_count": null,
   "id": "769085d4-7908-45c9-bd77-be485cfed388",
   "metadata": {},
   "outputs": [],
   "source": []
  },
  {
   "cell_type": "code",
   "execution_count": null,
   "id": "4660d929-cb19-424d-a4f4-59e7623b2063",
   "metadata": {},
   "outputs": [],
   "source": []
  },
  {
   "cell_type": "code",
   "execution_count": null,
   "id": "71c9eaeb-15f1-4924-8760-57478756cdb1",
   "metadata": {},
   "outputs": [],
   "source": []
  },
  {
   "cell_type": "code",
   "execution_count": null,
   "id": "0f4e99db-da33-476d-b61c-48bf5e1ca03d",
   "metadata": {},
   "outputs": [],
   "source": []
  },
  {
   "cell_type": "code",
   "execution_count": null,
   "id": "0d2fcad0-ce13-45c9-b543-1a061088ce21",
   "metadata": {},
   "outputs": [],
   "source": []
  }
 ],
 "metadata": {
  "kernelspec": {
   "display_name": "Python 3 (ipykernel)",
   "language": "python",
   "name": "python3"
  },
  "language_info": {
   "codemirror_mode": {
    "name": "ipython",
    "version": 3
   },
   "file_extension": ".py",
   "mimetype": "text/x-python",
   "name": "python",
   "nbconvert_exporter": "python",
   "pygments_lexer": "ipython3",
   "version": "3.13.2"
  }
 },
 "nbformat": 4,
 "nbformat_minor": 5
}
