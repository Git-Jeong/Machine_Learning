{
 "cells": [
  {
   "cell_type": "markdown",
   "id": "b8d0a01c-0e7a-4972-9a8e-03c0e91e1a3d",
   "metadata": {},
   "source": [
    "## BMI 파일을 활용하여 머신러닝을 학습해보기   "
   ]
  },
  {
   "cell_type": "code",
   "execution_count": 1,
   "id": "5f0f5262-7652-404c-b8f7-381fc33d2031",
   "metadata": {},
   "outputs": [],
   "source": [
    "import numpy as np\n",
    "import pandas as pd\n",
    "import matplotlib.pyplot as plt\n",
    "import matplotlib\n",
    "from sklearn.neighbors import KNeighborsClassifier \n"
   ]
  },
  {
   "cell_type": "code",
   "execution_count": 2,
   "id": "b51b1118-732a-49d1-ac58-72a335ad7860",
   "metadata": {},
   "outputs": [],
   "source": [
    "url = 'data/bmi_500.csv'"
   ]
  },
  {
   "cell_type": "code",
   "execution_count": 3,
   "id": "ef857c62-4f64-4c43-ac1b-c0bde8db75e4",
   "metadata": {},
   "outputs": [
    {
     "data": {
      "text/html": [
       "<div>\n",
       "<style scoped>\n",
       "    .dataframe tbody tr th:only-of-type {\n",
       "        vertical-align: middle;\n",
       "    }\n",
       "\n",
       "    .dataframe tbody tr th {\n",
       "        vertical-align: top;\n",
       "    }\n",
       "\n",
       "    .dataframe thead th {\n",
       "        text-align: right;\n",
       "    }\n",
       "</style>\n",
       "<table border=\"1\" class=\"dataframe\">\n",
       "  <thead>\n",
       "    <tr style=\"text-align: right;\">\n",
       "      <th></th>\n",
       "      <th>Gender</th>\n",
       "      <th>Height</th>\n",
       "      <th>Weight</th>\n",
       "      <th>Label</th>\n",
       "    </tr>\n",
       "  </thead>\n",
       "  <tbody>\n",
       "    <tr>\n",
       "      <th>0</th>\n",
       "      <td>Male</td>\n",
       "      <td>174</td>\n",
       "      <td>96</td>\n",
       "      <td>Obesity</td>\n",
       "    </tr>\n",
       "    <tr>\n",
       "      <th>1</th>\n",
       "      <td>Male</td>\n",
       "      <td>189</td>\n",
       "      <td>87</td>\n",
       "      <td>Normal</td>\n",
       "    </tr>\n",
       "    <tr>\n",
       "      <th>2</th>\n",
       "      <td>Female</td>\n",
       "      <td>185</td>\n",
       "      <td>110</td>\n",
       "      <td>Obesity</td>\n",
       "    </tr>\n",
       "    <tr>\n",
       "      <th>3</th>\n",
       "      <td>Female</td>\n",
       "      <td>195</td>\n",
       "      <td>104</td>\n",
       "      <td>Overweight</td>\n",
       "    </tr>\n",
       "    <tr>\n",
       "      <th>4</th>\n",
       "      <td>Male</td>\n",
       "      <td>149</td>\n",
       "      <td>61</td>\n",
       "      <td>Overweight</td>\n",
       "    </tr>\n",
       "    <tr>\n",
       "      <th>...</th>\n",
       "      <td>...</td>\n",
       "      <td>...</td>\n",
       "      <td>...</td>\n",
       "      <td>...</td>\n",
       "    </tr>\n",
       "    <tr>\n",
       "      <th>495</th>\n",
       "      <td>Female</td>\n",
       "      <td>150</td>\n",
       "      <td>153</td>\n",
       "      <td>Extreme Obesity</td>\n",
       "    </tr>\n",
       "    <tr>\n",
       "      <th>496</th>\n",
       "      <td>Female</td>\n",
       "      <td>184</td>\n",
       "      <td>121</td>\n",
       "      <td>Obesity</td>\n",
       "    </tr>\n",
       "    <tr>\n",
       "      <th>497</th>\n",
       "      <td>Female</td>\n",
       "      <td>141</td>\n",
       "      <td>136</td>\n",
       "      <td>Extreme Obesity</td>\n",
       "    </tr>\n",
       "    <tr>\n",
       "      <th>498</th>\n",
       "      <td>Male</td>\n",
       "      <td>150</td>\n",
       "      <td>95</td>\n",
       "      <td>Extreme Obesity</td>\n",
       "    </tr>\n",
       "    <tr>\n",
       "      <th>499</th>\n",
       "      <td>Male</td>\n",
       "      <td>173</td>\n",
       "      <td>131</td>\n",
       "      <td>Extreme Obesity</td>\n",
       "    </tr>\n",
       "  </tbody>\n",
       "</table>\n",
       "<p>500 rows × 4 columns</p>\n",
       "</div>"
      ],
      "text/plain": [
       "     Gender  Height  Weight            Label\n",
       "0      Male     174      96          Obesity\n",
       "1      Male     189      87           Normal\n",
       "2    Female     185     110          Obesity\n",
       "3    Female     195     104       Overweight\n",
       "4      Male     149      61       Overweight\n",
       "..      ...     ...     ...              ...\n",
       "495  Female     150     153  Extreme Obesity\n",
       "496  Female     184     121          Obesity\n",
       "497  Female     141     136  Extreme Obesity\n",
       "498    Male     150      95  Extreme Obesity\n",
       "499    Male     173     131  Extreme Obesity\n",
       "\n",
       "[500 rows x 4 columns]"
      ]
     },
     "execution_count": 3,
     "metadata": {},
     "output_type": "execute_result"
    }
   ],
   "source": [
    "data = pd.read_csv(url)\n",
    "data"
   ]
  },
  {
   "cell_type": "code",
   "execution_count": 4,
   "id": "3c692e1e-5d6d-4471-bc7a-db0cf1f015dc",
   "metadata": {},
   "outputs": [
    {
     "name": "stdout",
     "output_type": "stream",
     "text": [
      "   Gender  Height  Weight       Label\n",
      "0    Male     174      96     Obesity\n",
      "1    Male     189      87      Normal\n",
      "2  Female     185     110     Obesity\n",
      "3  Female     195     104  Overweight\n",
      "4    Male     149      61  Overweight\n",
      "\n",
      "<class 'pandas.core.frame.DataFrame'>\n",
      "RangeIndex: 500 entries, 0 to 499\n",
      "Data columns (total 4 columns):\n",
      " #   Column  Non-Null Count  Dtype \n",
      "---  ------  --------------  ----- \n",
      " 0   Gender  500 non-null    object\n",
      " 1   Height  500 non-null    int64 \n",
      " 2   Weight  500 non-null    int64 \n",
      " 3   Label   500 non-null    object\n",
      "dtypes: int64(2), object(2)\n",
      "memory usage: 15.8+ KB\n",
      "None\n",
      "\n",
      "Gender    0\n",
      "Height    0\n",
      "Weight    0\n",
      "Label     0\n",
      "dtype: int64\n",
      "\n"
     ]
    }
   ],
   "source": [
    "# 데이터를 확인하기 위해 상위 5개만 먼저 파악\n",
    "print(data.head(5))\n",
    "print()\n",
    "\n",
    "# 데이터의 정보 출력\n",
    "print(data.info())\n",
    "print()  \n",
    "\n",
    "# 데이터의 null값 카운트\n",
    "print(data.isnull().sum())\n",
    "print()"
   ]
  },
  {
   "attachments": {
    "fd52e19c-a24b-473e-b16d-210a33161e71.png": {
     "image/png": "[encoded data removed]"
    }
   },
   "cell_type": "markdown",
   "id": "d7ef841b-4e86-4957-b8a1-bc714cd19e73",
   "metadata": {},
   "source": [
    "![image.png](attachment:fd52e19c-a24b-473e-b16d-210a33161e71.png)\n",
    "```\n",
    "로 출력되는데. \n",
    "Gender, Height,Labe, Weight 가 입력(문제) 데이터\n",
    "Label는 출력(정답) 데이터\n",
    "```"
   ]
  },
  {
   "cell_type": "code",
   "execution_count": 5,
   "id": "70ad7861-81ea-4a55-ae65-1e521b7ccb3a",
   "metadata": {},
   "outputs": [],
   "source": [
    "# 문제 데이터를 넣기\n",
    "X = data.loc['Height' : 'Weight']\n",
    "\n",
    "# 정답 데이터 분리\n",
    "y = data['Label']"
   ]
  },
  {
   "cell_type": "code",
   "execution_count": 6,
   "id": "050c615b-25e1-4f18-b8b5-808b897c183e",
   "metadata": {},
   "outputs": [],
   "source": [
    "for i in X.values :\n",
    "    print(i)"
   ]
  },
  {
   "cell_type": "code",
   "execution_count": 7,
   "id": "2d2ffdf3-4996-4267-904a-7862c702cee3",
   "metadata": {},
   "outputs": [
    {
     "data": {
      "text/plain": [
       "array(['Obesity', 'Normal', 'Overweight', 'Extreme Obesity', 'Weak',\n",
       "       'Extremely Weak'], dtype=object)"
      ]
     },
     "execution_count": 7,
     "metadata": {},
     "output_type": "execute_result"
    }
   ],
   "source": [
    "y.unique() "
   ]
  },
  {
   "attachments": {
    "82459769-0d7a-41b5-a512-101ba6944d03.png": {
     "image/png": "[encoded data removed]"
    }
   },
   "cell_type": "markdown",
   "id": "9e60bce1-cd36-49d5-a4cd-f0103d58167c",
   "metadata": {},
   "source": [
    "![image.png](attachment:82459769-0d7a-41b5-a512-101ba6944d03.png)\n",
    "\n",
    "- Extremely Weak : 극심한 저체중\n",
    "- Weak : 저체중\n",
    "- Overweight : 과체중\n",
    "- Obesity : 비만\n",
    "- Extreme Obesity : 고도비만"
   ]
  },
  {
   "cell_type": "code",
   "execution_count": 8,
   "id": "7eb6b8b4-b792-4f36-a6f4-abb1609e80a1",
   "metadata": {},
   "outputs": [
    {
     "data": {
      "text/plain": [
       "Label\n",
       "Extreme Obesity    198\n",
       "Obesity            130\n",
       "Normal              69\n",
       "Overweight          68\n",
       "Weak                22\n",
       "Extremely Weak      13\n",
       "Name: count, dtype: int64"
      ]
     },
     "execution_count": 8,
     "metadata": {},
     "output_type": "execute_result"
    }
   ],
   "source": [
    "# 데이터 편향성을 파악하기 위해 어느정도 분포 되어 있는지 파악하는 과정 \n",
    "\n",
    "y.value_counts()"
   ]
  },
  {
   "attachments": {
    "205b49a2-03e9-42f8-b6f6-e2d36816fdb1.png": {
     "image/png": "[encoded data removed]"
    }
   },
   "cell_type": "markdown",
   "id": "25d6198c-e614-4703-969a-0cb3393ef750",
   "metadata": {},
   "source": [
    "![image.png](attachment:205b49a2-03e9-42f8-b6f6-e2d36816fdb1.png)\n",
    "\n",
    "- 좋은 데이터의 경우 모든 데이터가 균등하게 있어야 됨\n",
    "- 다만 지금의 경우는 저체중이 부족한 것으로 보임(비만 중심)"
   ]
  },
  {
   "cell_type": "code",
   "execution_count": 16,
   "id": "0316409a-6dd2-45a5-86c8-5081e48506c3",
   "metadata": {},
   "outputs": [
    {
     "data": {
      "image/png": "[encoded data removed]",
      "text/plain": [
       "<Figure size 640x480 with 1 Axes>"
      ]
     },
     "metadata": {},
     "output_type": "display_data"
    }
   ],
   "source": [
    "# 데이터 시각화 해보기\n",
    "\n",
    "extreme_obesity = data[data['Label'] == 'Extreme Obesity']\n",
    "extremely_weak = data[data['Label'] == 'Extremely Weak']\n",
    "\n",
    "x_ob = extreme_obesity['Height']\n",
    "y_ob = extreme_obesity['Weight']\n",
    "label_ob = 'Extreme_Obesity'\n",
    "plt.scatter(x = x_ob, y = y_ob, color = 'red', label = label_ob)\n",
    "\n",
    "x_ek = extremely_weak['Height']\n",
    "y_ek = extremely_weak['Weight']\n",
    "label_ek = 'extremely_weak'\n",
    "plt.scatter(x = x_ek, y = y_ek, color = 'blue', label = label_ek)\n",
    "\n",
    "plt.legend()\n",
    "\n",
    "plt.show()"
   ]
  },
  {
   "cell_type": "code",
   "execution_count": null,
   "id": "706875ba-d4cf-42a7-9216-61f94e63b690",
   "metadata": {},
   "outputs": [],
   "source": []
  },
  {
   "cell_type": "code",
   "execution_count": null,
   "id": "6a8ab091-8469-4e97-b46d-cc3f7c163b4b",
   "metadata": {},
   "outputs": [],
   "source": []
  },
  {
   "cell_type": "code",
   "execution_count": null,
   "id": "76e0db17-d0c0-492c-ba4b-6cea38c01605",
   "metadata": {},
   "outputs": [],
   "source": []
  },
  {
   "cell_type": "code",
   "execution_count": null,
   "id": "d8a519b5-be24-4617-8e22-4b6dc04872b9",
   "metadata": {},
   "outputs": [],
   "source": []
  },
  {
   "cell_type": "code",
   "execution_count": null,
   "id": "6d62a498-5864-4d7b-b2b0-d4fd31159152",
   "metadata": {},
   "outputs": [],
   "source": []
  },
  {
   "cell_type": "code",
   "execution_count": null,
   "id": "4c954503-0070-4cdf-86f0-17f76bb55110",
   "metadata": {},
   "outputs": [],
   "source": []
  },
  {
   "cell_type": "code",
   "execution_count": null,
   "id": "32454bf4-9279-4308-9df8-99f193bf45cd",
   "metadata": {},
   "outputs": [],
   "source": []
  },
  {
   "cell_type": "code",
   "execution_count": null,
   "id": "977870d8-684f-49fd-9fd2-4fbd685018ab",
   "metadata": {},
   "outputs": [],
   "source": []
  },
  {
   "cell_type": "code",
   "execution_count": null,
   "id": "116e9f83-8eba-4497-8c10-46639fafc801",
   "metadata": {},
   "outputs": [],
   "source": []
  },
  {
   "cell_type": "code",
   "execution_count": null,
   "id": "598716f0-52a9-4842-bf82-327d051c3316",
   "metadata": {},
   "outputs": [],
   "source": []
  },
  {
   "cell_type": "code",
   "execution_count": null,
   "id": "f2774245-d806-45da-b96e-3185feebc27d",
   "metadata": {},
   "outputs": [],
   "source": []
  },
  {
   "cell_type": "code",
   "execution_count": null,
   "id": "4563294e-ba52-4468-9a87-591f531041ff",
   "metadata": {},
   "outputs": [],
   "source": []
  },
  {
   "cell_type": "code",
   "execution_count": null,
   "id": "8115a204-b23e-4233-90f6-9229be34b118",
   "metadata": {},
   "outputs": [],
   "source": []
  },
  {
   "cell_type": "code",
   "execution_count": null,
   "id": "53a66f11-357f-43ca-8c6d-cd6410ba36bb",
   "metadata": {},
   "outputs": [],
   "source": []
  },
  {
   "cell_type": "code",
   "execution_count": null,
   "id": "8e587104-4c49-4de9-bd4e-23ae12d71968",
   "metadata": {},
   "outputs": [],
   "source": []
  },
  {
   "cell_type": "code",
   "execution_count": null,
   "id": "f1e48256-1000-4cd5-b465-3afbcbaf402f",
   "metadata": {},
   "outputs": [],
   "source": []
  },
  {
   "cell_type": "code",
   "execution_count": null,
   "id": "3273c723-8780-492a-849d-2cd7ea4475e0",
   "metadata": {},
   "outputs": [],
   "source": []
  },
  {
   "cell_type": "code",
   "execution_count": null,
   "id": "60dcf219-1d4e-42c8-9b14-24be8e7cce50",
   "metadata": {},
   "outputs": [],
   "source": []
  },
  {
   "cell_type": "code",
   "execution_count": null,
   "id": "6a4598b5-a2b2-4ff4-aeed-677f5a369301",
   "metadata": {},
   "outputs": [],
   "source": []
  },
  {
   "cell_type": "code",
   "execution_count": null,
   "id": "7a272fdc-ff6e-4b14-b8d7-6f3b73185d5c",
   "metadata": {},
   "outputs": [],
   "source": []
  },
  {
   "cell_type": "code",
   "execution_count": null,
   "id": "3e1a95d7-0162-4c0e-b837-f38e8d09b9cc",
   "metadata": {},
   "outputs": [],
   "source": []
  },
  {
   "cell_type": "code",
   "execution_count": null,
   "id": "65421be8-0ad1-43dd-a9b5-33a20acecd18",
   "metadata": {},
   "outputs": [],
   "source": []
  },
  {
   "cell_type": "code",
   "execution_count": null,
   "id": "b45360d1-4e27-4f18-881f-9a49b8f4157b",
   "metadata": {},
   "outputs": [],
   "source": []
  },
  {
   "cell_type": "code",
   "execution_count": null,
   "id": "769085d4-7908-45c9-bd77-be485cfed388",
   "metadata": {},
   "outputs": [],
   "source": []
  },
  {
   "cell_type": "code",
   "execution_count": null,
   "id": "4660d929-cb19-424d-a4f4-59e7623b2063",
   "metadata": {},
   "outputs": [],
   "source": []
  },
  {
   "cell_type": "code",
   "execution_count": null,
   "id": "71c9eaeb-15f1-4924-8760-57478756cdb1",
   "metadata": {},
   "outputs": [],
   "source": []
  },
  {
   "cell_type": "code",
   "execution_count": null,
   "id": "0f4e99db-da33-476d-b61c-48bf5e1ca03d",
   "metadata": {},
   "outputs": [],
   "source": []
  },
  {
   "cell_type": "code",
   "execution_count": null,
   "id": "0d2fcad0-ce13-45c9-b543-1a061088ce21",
   "metadata": {},
   "outputs": [],
   "source": []
  }
 ],
 "metadata": {
  "kernelspec": {
   "display_name": "Python 3 (ipykernel)",
   "language": "python",
   "name": "python3"
  },
  "language_info": {
   "codemirror_mode": {
    "name": "ipython",
    "version": 3
   },
   "file_extension": ".py",
   "mimetype": "text/x-python",
   "name": "python",
   "nbconvert_exporter": "python",
   "pygments_lexer": "ipython3",
   "version": "3.13.2"
  }
 },
 "nbformat": 4,
 "nbformat_minor": 5
}
